{
 "cells": [
  {
   "cell_type": "code",
   "execution_count": 1,
   "metadata": {},
   "outputs": [
    {
     "name": "stdout",
     "output_type": "stream",
     "text": [
      "3.0\n",
      "4.0\n",
      "2.0\n"
     ]
    }
   ],
   "source": [
    "# standard_deviasi\n",
    "import math\n",
    "\n",
    "xs = [ 1,2,3,2,5,2,7,2 ]     # values in float\n",
    "mean = sum(xs) / len(xs)   # mean\n",
    "var  = sum(pow(x-mean,2) for x in xs) / (len(xs)-1)  # variance\n",
    "std  = math.sqrt(var)  # standard deviation\n",
    "\n",
    "print(mean)\n",
    "print(var)\n",
    "print(std) "
   ]
  },
  {
   "cell_type": "code",
   "execution_count": null,
   "metadata": {},
   "outputs": [],
   "source": []
  }
 ],
 "metadata": {
  "kernelspec": {
   "display_name": "Python 3",
   "language": "python",
   "name": "python3"
  },
  "language_info": {
   "codemirror_mode": {
    "name": "ipython",
    "version": 3
   },
   "file_extension": ".py",
   "mimetype": "text/x-python",
   "name": "python",
   "nbconvert_exporter": "python",
   "pygments_lexer": "ipython3",
   "version": "3.7.1"
  }
 },
 "nbformat": 4,
 "nbformat_minor": 2
}
