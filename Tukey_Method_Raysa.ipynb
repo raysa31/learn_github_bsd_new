{
 "cells": [
  {
   "cell_type": "markdown",
   "metadata": {},
   "source": [
    "## Tukey's Method\n",
    "Quartile code idea based on Tukey's method:\n",
    "1. Sort the data\n",
    "2. Determine odd or even\n",
    "3. Slice list to be upper list and lower list\n",
    "4. Calculate median for each list\n",
    "\n",
    "Input of this method is list of integer. Output of this method is metric of 1st quartile, 2nd quartile and 3rd quartile"
   ]
  },
  {
   "cell_type": "code",
   "execution_count": null,
   "metadata": {},
   "outputs": [],
   "source": [
    "import math\n",
    "\n",
    "def median(data_list):\n",
    "    if len(data_list) % 2 == 0: \n",
    "        idx_b = int(len(data_list)/2)\n",
    "        idx_a = idx_b - 1\n",
    "        quartile = (data_list[idx_a] + data_list[idx_b])/2\n",
    "    else:\n",
    "        idx_quartile = math.floor(int(len(data_list)/2))\n",
    "        quartile = data_list[idx_quartile]\n",
    "\n",
    "    return quartile\n",
    "\n",
    "def quartiles(data):\n",
    "\n",
    "    data = [1,2,3,2,5,2,7,2,9]\n",
    "    data.short()\n",
    "\n",
    "    quartile_2 = median(data)\n",
    "\n",
    "    if len(data) % 2 == 0:\n",
    "        print('process for even data by calculating median to lists')\n",
    "        idx_quartile = int(len(data)/2)\n",
    "        quartile_1 = median(data[:idx_quartile])\n",
    "        quartile_3 = median(data[idx_quartile:])\n",
    "\n",
    "    else:\n",
    "        print('process for odd data by calculating median to lists')\n",
    "        idx_quartile = math.floor(len(data)/2)\n",
    "        quartile_1 = median(data[:math.ceil(len(data)/2)])\n",
    "        quartile_3 = median(data[math.floor(len(data)/2):])\n",
    "    \n",
    "    return quartile_1, quartile_2, quartile_3\n",
    "                       \n",
    "    "
   ]
  }
 ],
 "metadata": {
  "kernelspec": {
   "display_name": "Python 3",
   "language": "python",
   "name": "python3"
  },
  "language_info": {
   "codemirror_mode": {
    "name": "ipython",
    "version": 3
   },
   "file_extension": ".py",
   "mimetype": "text/x-python",
   "name": "python",
   "nbconvert_exporter": "python",
   "pygments_lexer": "ipython3",
   "version": "3.7.1"
  }
 },
 "nbformat": 4,
 "nbformat_minor": 2
}
